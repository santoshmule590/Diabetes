{
 "cells": [
  {
   "cell_type": "markdown",
   "id": "29f21b8f",
   "metadata": {},
   "source": [
    "# Logistic Regression Algorithm On Diabetics Data\n"
   ]
  },
  {
   "cell_type": "code",
   "execution_count": 1,
   "id": "1a51ff07",
   "metadata": {},
   "outputs": [],
   "source": [
    "import numpy as np\n",
    "import pandas as pd\n",
    "import matplotlib.pyplot as plt \n",
    "import seaborn as sns\n",
    "from sklearn.linear_model import LogisticRegression\n",
    "from sklearn.model_selection import train_test_split\n",
    "from sklearn.metrics import confusion_matrix,classification_report,accuracy_score\n",
    "from sklearn.metrics import plot_confusion_matrix\n",
    "from sklearn.metrics import roc_curve\n",
    "import warnings\n",
    "warnings.filterwarnings(\"ignore\")"
   ]
  },
  {
   "cell_type": "markdown",
   "id": "6b99fd57",
   "metadata": {},
   "source": [
    "## Problem Statement"
   ]
  },
  {
   "cell_type": "raw",
   "id": "24318768",
   "metadata": {},
   "source": [
    "We have to classify the patient has diabetics or not"
   ]
  },
  {
   "cell_type": "markdown",
   "id": "37c2d5bb",
   "metadata": {},
   "source": [
    "## Data Gathering"
   ]
  },
  {
   "cell_type": "code",
   "execution_count": 2,
   "id": "7ea4d1a2",
   "metadata": {},
   "outputs": [
    {
     "data": {
      "text/html": [
       "<div>\n",
       "<style scoped>\n",
       "    .dataframe tbody tr th:only-of-type {\n",
       "        vertical-align: middle;\n",
       "    }\n",
       "\n",
       "    .dataframe tbody tr th {\n",
       "        vertical-align: top;\n",
       "    }\n",
       "\n",
       "    .dataframe thead th {\n",
       "        text-align: right;\n",
       "    }\n",
       "</style>\n",
       "<table border=\"1\" class=\"dataframe\">\n",
       "  <thead>\n",
       "    <tr style=\"text-align: right;\">\n",
       "      <th></th>\n",
       "      <th>Glucose</th>\n",
       "      <th>BloodPressure</th>\n",
       "      <th>SkinThickness</th>\n",
       "      <th>Insulin</th>\n",
       "      <th>BMI</th>\n",
       "      <th>DiabetesPedigreeFunction</th>\n",
       "      <th>Age</th>\n",
       "      <th>Outcome</th>\n",
       "    </tr>\n",
       "  </thead>\n",
       "  <tbody>\n",
       "    <tr>\n",
       "      <th>0</th>\n",
       "      <td>148</td>\n",
       "      <td>50</td>\n",
       "      <td>35</td>\n",
       "      <td>0</td>\n",
       "      <td>33.6</td>\n",
       "      <td>0.627</td>\n",
       "      <td>50</td>\n",
       "      <td>1</td>\n",
       "    </tr>\n",
       "    <tr>\n",
       "      <th>1</th>\n",
       "      <td>85</td>\n",
       "      <td>66</td>\n",
       "      <td>29</td>\n",
       "      <td>0</td>\n",
       "      <td>26.6</td>\n",
       "      <td>0.351</td>\n",
       "      <td>31</td>\n",
       "      <td>0</td>\n",
       "    </tr>\n",
       "    <tr>\n",
       "      <th>2</th>\n",
       "      <td>183</td>\n",
       "      <td>64</td>\n",
       "      <td>0</td>\n",
       "      <td>0</td>\n",
       "      <td>23.3</td>\n",
       "      <td>0.672</td>\n",
       "      <td>52</td>\n",
       "      <td>1</td>\n",
       "    </tr>\n",
       "    <tr>\n",
       "      <th>3</th>\n",
       "      <td>150</td>\n",
       "      <td>66</td>\n",
       "      <td>23</td>\n",
       "      <td>94</td>\n",
       "      <td>28.1</td>\n",
       "      <td>0.167</td>\n",
       "      <td>21</td>\n",
       "      <td>0</td>\n",
       "    </tr>\n",
       "    <tr>\n",
       "      <th>4</th>\n",
       "      <td>150</td>\n",
       "      <td>40</td>\n",
       "      <td>35</td>\n",
       "      <td>168</td>\n",
       "      <td>43.1</td>\n",
       "      <td>2.288</td>\n",
       "      <td>33</td>\n",
       "      <td>1</td>\n",
       "    </tr>\n",
       "  </tbody>\n",
       "</table>\n",
       "</div>"
      ],
      "text/plain": [
       "   Glucose  BloodPressure  SkinThickness  Insulin   BMI  \\\n",
       "0      148             50             35        0  33.6   \n",
       "1       85             66             29        0  26.6   \n",
       "2      183             64              0        0  23.3   \n",
       "3      150             66             23       94  28.1   \n",
       "4      150             40             35      168  43.1   \n",
       "\n",
       "   DiabetesPedigreeFunction  Age  Outcome  \n",
       "0                     0.627   50        1  \n",
       "1                     0.351   31        0  \n",
       "2                     0.672   52        1  \n",
       "3                     0.167   21        0  \n",
       "4                     2.288   33        1  "
      ]
     },
     "execution_count": 2,
     "metadata": {},
     "output_type": "execute_result"
    }
   ],
   "source": [
    "df=pd.read_csv(\"diabetes.csv\")\n",
    "df.head()"
   ]
  },
  {
   "cell_type": "markdown",
   "id": "ffa76cfc",
   "metadata": {},
   "source": [
    "## EDA"
   ]
  },
  {
   "cell_type": "code",
   "execution_count": 3,
   "id": "674f4d4a",
   "metadata": {},
   "outputs": [
    {
     "name": "stdout",
     "output_type": "stream",
     "text": [
      "<class 'pandas.core.frame.DataFrame'>\n",
      "RangeIndex: 768 entries, 0 to 767\n",
      "Data columns (total 8 columns):\n",
      " #   Column                    Non-Null Count  Dtype  \n",
      "---  ------                    --------------  -----  \n",
      " 0   Glucose                   768 non-null    int64  \n",
      " 1   BloodPressure             768 non-null    int64  \n",
      " 2   SkinThickness             768 non-null    int64  \n",
      " 3   Insulin                   768 non-null    int64  \n",
      " 4   BMI                       768 non-null    float64\n",
      " 5   DiabetesPedigreeFunction  768 non-null    float64\n",
      " 6   Age                       768 non-null    int64  \n",
      " 7   Outcome                   768 non-null    int64  \n",
      "dtypes: float64(2), int64(6)\n",
      "memory usage: 48.1 KB\n"
     ]
    }
   ],
   "source": [
    "df.info()"
   ]
  },
  {
   "cell_type": "code",
   "execution_count": 4,
   "id": "2e998d42",
   "metadata": {},
   "outputs": [
    {
     "data": {
      "text/html": [
       "<div>\n",
       "<style scoped>\n",
       "    .dataframe tbody tr th:only-of-type {\n",
       "        vertical-align: middle;\n",
       "    }\n",
       "\n",
       "    .dataframe tbody tr th {\n",
       "        vertical-align: top;\n",
       "    }\n",
       "\n",
       "    .dataframe thead th {\n",
       "        text-align: right;\n",
       "    }\n",
       "</style>\n",
       "<table border=\"1\" class=\"dataframe\">\n",
       "  <thead>\n",
       "    <tr style=\"text-align: right;\">\n",
       "      <th></th>\n",
       "      <th>Glucose</th>\n",
       "      <th>BloodPressure</th>\n",
       "      <th>SkinThickness</th>\n",
       "      <th>Insulin</th>\n",
       "      <th>BMI</th>\n",
       "      <th>DiabetesPedigreeFunction</th>\n",
       "      <th>Age</th>\n",
       "      <th>Outcome</th>\n",
       "    </tr>\n",
       "  </thead>\n",
       "  <tbody>\n",
       "    <tr>\n",
       "      <th>count</th>\n",
       "      <td>768.000000</td>\n",
       "      <td>768.000000</td>\n",
       "      <td>768.000000</td>\n",
       "      <td>768.000000</td>\n",
       "      <td>768.000000</td>\n",
       "      <td>768.000000</td>\n",
       "      <td>768.000000</td>\n",
       "      <td>768.000000</td>\n",
       "    </tr>\n",
       "    <tr>\n",
       "      <th>mean</th>\n",
       "      <td>121.117188</td>\n",
       "      <td>69.076823</td>\n",
       "      <td>20.536458</td>\n",
       "      <td>79.799479</td>\n",
       "      <td>31.992578</td>\n",
       "      <td>0.471876</td>\n",
       "      <td>33.243490</td>\n",
       "      <td>0.348958</td>\n",
       "    </tr>\n",
       "    <tr>\n",
       "      <th>std</th>\n",
       "      <td>31.805091</td>\n",
       "      <td>19.367794</td>\n",
       "      <td>15.952218</td>\n",
       "      <td>115.244002</td>\n",
       "      <td>7.884160</td>\n",
       "      <td>0.331329</td>\n",
       "      <td>11.758182</td>\n",
       "      <td>0.476951</td>\n",
       "    </tr>\n",
       "    <tr>\n",
       "      <th>min</th>\n",
       "      <td>0.000000</td>\n",
       "      <td>0.000000</td>\n",
       "      <td>0.000000</td>\n",
       "      <td>0.000000</td>\n",
       "      <td>0.000000</td>\n",
       "      <td>0.078000</td>\n",
       "      <td>21.000000</td>\n",
       "      <td>0.000000</td>\n",
       "    </tr>\n",
       "    <tr>\n",
       "      <th>25%</th>\n",
       "      <td>99.000000</td>\n",
       "      <td>62.000000</td>\n",
       "      <td>0.000000</td>\n",
       "      <td>0.000000</td>\n",
       "      <td>27.300000</td>\n",
       "      <td>0.243750</td>\n",
       "      <td>24.000000</td>\n",
       "      <td>0.000000</td>\n",
       "    </tr>\n",
       "    <tr>\n",
       "      <th>50%</th>\n",
       "      <td>117.000000</td>\n",
       "      <td>72.000000</td>\n",
       "      <td>23.000000</td>\n",
       "      <td>30.500000</td>\n",
       "      <td>32.000000</td>\n",
       "      <td>0.372500</td>\n",
       "      <td>29.000000</td>\n",
       "      <td>0.000000</td>\n",
       "    </tr>\n",
       "    <tr>\n",
       "      <th>75%</th>\n",
       "      <td>142.000000</td>\n",
       "      <td>80.000000</td>\n",
       "      <td>32.000000</td>\n",
       "      <td>127.250000</td>\n",
       "      <td>36.600000</td>\n",
       "      <td>0.626250</td>\n",
       "      <td>41.000000</td>\n",
       "      <td>1.000000</td>\n",
       "    </tr>\n",
       "    <tr>\n",
       "      <th>max</th>\n",
       "      <td>199.000000</td>\n",
       "      <td>122.000000</td>\n",
       "      <td>99.000000</td>\n",
       "      <td>846.000000</td>\n",
       "      <td>67.100000</td>\n",
       "      <td>2.420000</td>\n",
       "      <td>81.000000</td>\n",
       "      <td>1.000000</td>\n",
       "    </tr>\n",
       "  </tbody>\n",
       "</table>\n",
       "</div>"
      ],
      "text/plain": [
       "          Glucose  BloodPressure  SkinThickness     Insulin         BMI  \\\n",
       "count  768.000000     768.000000     768.000000  768.000000  768.000000   \n",
       "mean   121.117188      69.076823      20.536458   79.799479   31.992578   \n",
       "std     31.805091      19.367794      15.952218  115.244002    7.884160   \n",
       "min      0.000000       0.000000       0.000000    0.000000    0.000000   \n",
       "25%     99.000000      62.000000       0.000000    0.000000   27.300000   \n",
       "50%    117.000000      72.000000      23.000000   30.500000   32.000000   \n",
       "75%    142.000000      80.000000      32.000000  127.250000   36.600000   \n",
       "max    199.000000     122.000000      99.000000  846.000000   67.100000   \n",
       "\n",
       "       DiabetesPedigreeFunction         Age     Outcome  \n",
       "count                768.000000  768.000000  768.000000  \n",
       "mean                   0.471876   33.243490    0.348958  \n",
       "std                    0.331329   11.758182    0.476951  \n",
       "min                    0.078000   21.000000    0.000000  \n",
       "25%                    0.243750   24.000000    0.000000  \n",
       "50%                    0.372500   29.000000    0.000000  \n",
       "75%                    0.626250   41.000000    1.000000  \n",
       "max                    2.420000   81.000000    1.000000  "
      ]
     },
     "execution_count": 4,
     "metadata": {},
     "output_type": "execute_result"
    }
   ],
   "source": [
    "df.describe()"
   ]
  },
  {
   "cell_type": "code",
   "execution_count": 5,
   "id": "5050cd30",
   "metadata": {},
   "outputs": [
    {
     "data": {
      "text/plain": [
       "Glucose                     0\n",
       "BloodPressure               0\n",
       "SkinThickness               0\n",
       "Insulin                     0\n",
       "BMI                         0\n",
       "DiabetesPedigreeFunction    0\n",
       "Age                         0\n",
       "Outcome                     0\n",
       "dtype: int64"
      ]
     },
     "execution_count": 5,
     "metadata": {},
     "output_type": "execute_result"
    }
   ],
   "source": [
    "df.isna().sum()"
   ]
  },
  {
   "cell_type": "code",
   "execution_count": 8,
   "id": "c13f21b7",
   "metadata": {},
   "outputs": [
    {
     "data": {
      "text/plain": [
       "0    500\n",
       "1    268\n",
       "Name: Outcome, dtype: int64"
      ]
     },
     "execution_count": 8,
     "metadata": {},
     "output_type": "execute_result"
    }
   ],
   "source": [
    "df['Outcome'].value_counts()   # imbalance data  # bais data"
   ]
  },
  {
   "cell_type": "code",
   "execution_count": 9,
   "id": "e6b7c455",
   "metadata": {},
   "outputs": [
    {
     "data": {
      "text/plain": [
       "<AxesSubplot:xlabel='Outcome', ylabel='count'>"
      ]
     },
     "execution_count": 9,
     "metadata": {},
     "output_type": "execute_result"
    },
    {
     "data": {
      "image/png": "[encoded data removed]",
      "text/plain": [
       "<Figure size 432x288 with 1 Axes>"
      ]
     },
     "metadata": {
      "needs_background": "light"
     },
     "output_type": "display_data"
    }
   ],
   "source": [
    "sns.countplot(x  = df['Outcome'])"
   ]
  },
  {
   "cell_type": "markdown",
   "id": "9929d116",
   "metadata": {},
   "source": [
    "## Model Training"
   ]
  },
  {
   "cell_type": "code",
   "execution_count": 21,
   "id": "fde18da3",
   "metadata": {},
   "outputs": [],
   "source": [
    "## train_test_split\n",
    "x=df.drop(\"Outcome\",axis=1)\n",
    "y=df[\"Outcome\"]\n",
    "x_train,x_test,y_train,y_test = train_test_split(x,y,test_size=0.3,random_state=32,stratify=y)"
   ]
  },
  {
   "cell_type": "code",
   "execution_count": 22,
   "id": "275f7620",
   "metadata": {},
   "outputs": [
    {
     "data": {
      "text/html": [
       "<style>#sk-container-id-3 {color: black;background-color: white;}#sk-container-id-3 pre{padding: 0;}#sk-container-id-3 div.sk-toggleable {background-color: white;}#sk-container-id-3 label.sk-toggleable__label {cursor: pointer;display: block;width: 100%;margin-bottom: 0;padding: 0.3em;box-sizing: border-box;text-align: center;}#sk-container-id-3 label.sk-toggleable__label-arrow:before {content: \"▸\";float: left;margin-right: 0.25em;color: #696969;}#sk-container-id-3 label.sk-toggleable__label-arrow:hover:before {color: black;}#sk-container-id-3 div.sk-estimator:hover label.sk-toggleable__label-arrow:before {color: black;}#sk-container-id-3 div.sk-toggleable__content {max-height: 0;max-width: 0;overflow: hidden;text-align: left;background-color: #f0f8ff;}#sk-container-id-3 div.sk-toggleable__content pre {margin: 0.2em;color: black;border-radius: 0.25em;background-color: #f0f8ff;}#sk-container-id-3 input.sk-toggleable__control:checked~div.sk-toggleable__content {max-height: 200px;max-width: 100%;overflow: auto;}#sk-container-id-3 input.sk-toggleable__control:checked~label.sk-toggleable__label-arrow:before {content: \"▾\";}#sk-container-id-3 div.sk-estimator input.sk-toggleable__control:checked~label.sk-toggleable__label {background-color: #d4ebff;}#sk-container-id-3 div.sk-label input.sk-toggleable__control:checked~label.sk-toggleable__label {background-color: #d4ebff;}#sk-container-id-3 input.sk-hidden--visually {border: 0;clip: rect(1px 1px 1px 1px);clip: rect(1px, 1px, 1px, 1px);height: 1px;margin: -1px;overflow: hidden;padding: 0;position: absolute;width: 1px;}#sk-container-id-3 div.sk-estimator {font-family: monospace;background-color: #f0f8ff;border: 1px dotted black;border-radius: 0.25em;box-sizing: border-box;margin-bottom: 0.5em;}#sk-container-id-3 div.sk-estimator:hover {background-color: #d4ebff;}#sk-container-id-3 div.sk-parallel-item::after {content: \"\";width: 100%;border-bottom: 1px solid gray;flex-grow: 1;}#sk-container-id-3 div.sk-label:hover label.sk-toggleable__label {background-color: #d4ebff;}#sk-container-id-3 div.sk-serial::before {content: \"\";position: absolute;border-left: 1px solid gray;box-sizing: border-box;top: 0;bottom: 0;left: 50%;z-index: 0;}#sk-container-id-3 div.sk-serial {display: flex;flex-direction: column;align-items: center;background-color: white;padding-right: 0.2em;padding-left: 0.2em;position: relative;}#sk-container-id-3 div.sk-item {position: relative;z-index: 1;}#sk-container-id-3 div.sk-parallel {display: flex;align-items: stretch;justify-content: center;background-color: white;position: relative;}#sk-container-id-3 div.sk-item::before, #sk-container-id-3 div.sk-parallel-item::before {content: \"\";position: absolute;border-left: 1px solid gray;box-sizing: border-box;top: 0;bottom: 0;left: 50%;z-index: -1;}#sk-container-id-3 div.sk-parallel-item {display: flex;flex-direction: column;z-index: 1;position: relative;background-color: white;}#sk-container-id-3 div.sk-parallel-item:first-child::after {align-self: flex-end;width: 50%;}#sk-container-id-3 div.sk-parallel-item:last-child::after {align-self: flex-start;width: 50%;}#sk-container-id-3 div.sk-parallel-item:only-child::after {width: 0;}#sk-container-id-3 div.sk-dashed-wrapped {border: 1px dashed gray;margin: 0 0.4em 0.5em 0.4em;box-sizing: border-box;padding-bottom: 0.4em;background-color: white;}#sk-container-id-3 div.sk-label label {font-family: monospace;font-weight: bold;display: inline-block;line-height: 1.2em;}#sk-container-id-3 div.sk-label-container {text-align: center;}#sk-container-id-3 div.sk-container {/* jupyter's `normalize.less` sets `[hidden] { display: none; }` but bootstrap.min.css set `[hidden] { display: none !important; }` so we also need the `!important` here to be able to override the default hidden behavior on the sphinx rendered scikit-learn.org. See: https://github.com/scikit-learn/scikit-learn/issues/21755 */display: inline-block !important;position: relative;}#sk-container-id-3 div.sk-text-repr-fallback {display: none;}</style><div id=\"sk-container-id-3\" class=\"sk-top-container\"><div class=\"sk-text-repr-fallback\"><pre>LogisticRegression()</pre><b>In a Jupyter environment, please rerun this cell to show the HTML representation or trust the notebook. <br />On GitHub, the HTML representation is unable to render, please try loading this page with nbviewer.org.</b></div><div class=\"sk-container\" hidden><div class=\"sk-item\"><div class=\"sk-estimator sk-toggleable\"><input class=\"sk-toggleable__control sk-hidden--visually\" id=\"sk-estimator-id-3\" type=\"checkbox\" checked><label for=\"sk-estimator-id-3\" class=\"sk-toggleable__label sk-toggleable__label-arrow\">LogisticRegression</label><div class=\"sk-toggleable__content\"><pre>LogisticRegression()</pre></div></div></div></div></div>"
      ],
      "text/plain": [
       "LogisticRegression()"
      ]
     },
     "execution_count": 22,
     "metadata": {},
     "output_type": "execute_result"
    }
   ],
   "source": [
    "# create instance of model\n",
    "logistic_model=LogisticRegression()\n",
    "\n",
    "# Fit Model\n",
    "logistic_model.fit(x_train,y_train)"
   ]
  },
  {
   "cell_type": "code",
   "execution_count": 23,
   "id": "ba20ff41",
   "metadata": {},
   "outputs": [
    {
     "data": {
      "text/plain": [
       "<sklearn.metrics._plot.confusion_matrix.ConfusionMatrixDisplay at 0x22c5780cf40>"
      ]
     },
     "execution_count": 23,
     "metadata": {},
     "output_type": "execute_result"
    },
    {
     "data": {
      "image/png": "[encoded data removed]",
      "text/plain": [
       "<Figure size 432x288 with 2 Axes>"
      ]
     },
     "metadata": {
      "needs_background": "light"
     },
     "output_type": "display_data"
    }
   ],
   "source": [
    "# Testing  Data\n",
    "plot_confusion_matrix(logistic_model, x_test, y_test)"
   ]
  },
  {
   "cell_type": "code",
   "execution_count": 24,
   "id": "ef979fcc",
   "metadata": {},
   "outputs": [
    {
     "data": {
      "text/plain": [
       "<sklearn.metrics._plot.confusion_matrix.ConfusionMatrixDisplay at 0x22c5931cc10>"
      ]
     },
     "execution_count": 24,
     "metadata": {},
     "output_type": "execute_result"
    },
    {
     "data": {
      "image/png": "[encoded data removed]",
      "text/plain": [
       "<Figure size 432x288 with 2 Axes>"
      ]
     },
     "metadata": {
      "needs_background": "light"
     },
     "output_type": "display_data"
    }
   ],
   "source": [
    "# Training Data\n",
    "plot_confusion_matrix(logistic_model, x_train, y_train)"
   ]
  },
  {
   "cell_type": "markdown",
   "id": "8d67c688",
   "metadata": {},
   "source": [
    "## Model Evaluation"
   ]
  },
  {
   "cell_type": "code",
   "execution_count": 25,
   "id": "a8744ccc",
   "metadata": {},
   "outputs": [
    {
     "name": "stdout",
     "output_type": "stream",
     "text": [
      "Confusion Matrix:\n",
      " [[141   9]\n",
      " [ 37  44]]\n",
      "-----------------------------------------------------------------\n",
      "Accuracy Score: 0.8008658008658008\n",
      "-----------------------------------------------------------------\n",
      "Classification report:\n",
      "               precision    recall  f1-score   support\n",
      "\n",
      "           0       0.79      0.94      0.86       150\n",
      "           1       0.83      0.54      0.66        81\n",
      "\n",
      "    accuracy                           0.80       231\n",
      "   macro avg       0.81      0.74      0.76       231\n",
      "weighted avg       0.81      0.80      0.79       231\n",
      "\n"
     ]
    }
   ],
   "source": [
    "## For Testing\n",
    "y_pred = logistic_model.predict(x_test)\n",
    "\n",
    "cnf_matrix = confusion_matrix(y_test, y_pred)\n",
    "print(\"Confusion Matrix:\\n\",cnf_matrix)\n",
    "\n",
    "print(\"-\"*65)\n",
    "accuracy = accuracy_score(y_test, y_pred)\n",
    "print(\"Accuracy Score:\",accuracy)\n",
    "print(\"-\"*65)\n",
    "\n",
    "clf_report = classification_report(y_test, y_pred)\n",
    "print(\"Classification report:\\n\",clf_report)"
   ]
  },
  {
   "cell_type": "code",
   "execution_count": 26,
   "id": "51372601",
   "metadata": {},
   "outputs": [
    {
     "name": "stdout",
     "output_type": "stream",
     "text": [
      "Confusion Matrix:\n",
      " [[304  46]\n",
      " [ 84 103]]\n",
      "*********************************************\n",
      "Accuracy Score: 0.7579143389199255\n",
      "*********************************************\n",
      "Classification report:\n",
      "               precision    recall  f1-score   support\n",
      "\n",
      "           0       0.78      0.87      0.82       350\n",
      "           1       0.69      0.55      0.61       187\n",
      "\n",
      "    accuracy                           0.76       537\n",
      "   macro avg       0.74      0.71      0.72       537\n",
      "weighted avg       0.75      0.76      0.75       537\n",
      "\n"
     ]
    }
   ],
   "source": [
    "# Training data\n",
    "y_pred_train = logistic_model.predict(x_train)\n",
    "\n",
    "cnf_matrix = confusion_matrix(y_train, y_pred_train)\n",
    "print(\"Confusion Matrix:\\n\",cnf_matrix)\n",
    "\n",
    "# Visualization\n",
    "\n",
    "print(\"*\"*45)\n",
    "accuracy = accuracy_score(y_train, y_pred_train)\n",
    "print(\"Accuracy Score:\",accuracy)\n",
    "print(\"*\"*45)\n",
    "\n",
    "clf_report = classification_report(y_train, y_pred_train)\n",
    "print(\"Classification report:\\n\",clf_report)"
   ]
  },
  {
   "cell_type": "code",
   "execution_count": null,
   "id": "14381dd5",
   "metadata": {},
   "outputs": [],
   "source": []
  },
  {
   "cell_type": "code",
   "execution_count": 32,
   "id": "66c3619b",
   "metadata": {},
   "outputs": [
    {
     "data": {
      "text/plain": [
       "array([0.27530636, 0.27480414, 0.24373589, 0.1923902 , 0.30969592,\n",
       "       0.55567356, 0.33625535, 0.19008835, 0.1124684 , 0.08108995,\n",
       "       0.8688044 , 0.15065462, 0.12649986, 0.55812544, 0.32398507,\n",
       "       0.77674753, 0.37856701, 0.43791823, 0.44004252, 0.42984443,\n",
       "       0.77359846, 0.68905187, 0.07743914, 0.68711147, 0.29300393,\n",
       "       0.09106357, 0.30367308, 0.30496885, 0.57584938, 0.04719266,\n",
       "       0.09573713, 0.05445558, 0.37122454, 0.74172465, 0.19553   ,\n",
       "       0.30032804, 0.12835766, 0.07741741, 0.49002838, 0.19946923,\n",
       "       0.11165911, 0.57717803, 0.05095372, 0.48029657, 0.87680945,\n",
       "       0.104209  , 0.32039702, 0.79210455, 0.10425637, 0.11334797,\n",
       "       0.76151728, 0.75485511, 0.07812113, 0.76717393, 0.44695935,\n",
       "       0.18970838, 0.09444493, 0.42879508, 0.11527281, 0.42282174,\n",
       "       0.12853793, 0.55874535, 0.62694975, 0.26743518, 0.21894546,\n",
       "       0.22372925, 0.78198446, 0.4771516 , 0.62410408, 0.74651595,\n",
       "       0.38390634, 0.10807511, 0.05988661, 0.7714785 , 0.12245235,\n",
       "       0.81882133, 0.78415729, 0.05737235, 0.23393843, 0.18912471,\n",
       "       0.8105394 , 0.67614838, 0.6855477 , 0.26394883, 0.03155724,\n",
       "       0.16342054, 0.07273137, 0.47649436, 0.72151084, 0.76812154,\n",
       "       0.88420237, 0.39004203, 0.32232513, 0.1215387 , 0.20189906,\n",
       "       0.55822565, 0.83470815, 0.39237949, 0.10425154, 0.15003179,\n",
       "       0.16991989, 0.23391286, 0.13758668, 0.10789846, 0.29274703,\n",
       "       0.09803705, 0.11061371, 0.04437205, 0.77243151, 0.73466147,\n",
       "       0.01224252, 0.11676727, 0.92918414, 0.31051695, 0.65318344,\n",
       "       0.34098282, 0.25675876, 0.28647534, 0.15435483, 0.14190683,\n",
       "       0.06691562, 0.0140628 , 0.25402443, 0.08986232, 0.35497689,\n",
       "       0.22636259, 0.07858393, 0.0575343 , 0.18162781, 0.74540219,\n",
       "       0.90191067, 0.32819905, 0.26370287, 0.03275547, 0.1995823 ,\n",
       "       0.3804214 , 0.57891714, 0.63450182, 0.15206151, 0.71160272,\n",
       "       0.19876671, 0.72945307, 0.37505666, 0.18462253, 0.15018977,\n",
       "       0.73514073, 0.20425826, 0.62168875, 0.12291814, 0.1785882 ,\n",
       "       0.02744736, 0.03480978, 0.25800506, 0.11742725, 0.24976578,\n",
       "       0.24839993, 0.63928331, 0.12067315, 0.22101131, 0.09657977,\n",
       "       0.07989161, 0.28857489, 0.21766306, 0.13762165, 0.0558353 ,\n",
       "       0.11741289, 0.27405185, 0.83962786, 0.42672442, 0.95598625,\n",
       "       0.3020412 , 0.19790473, 0.20948458, 0.05791791, 0.8032954 ,\n",
       "       0.48564714, 0.24204899, 0.06060449, 0.5333401 , 0.47831049,\n",
       "       0.28508147, 0.1180866 , 0.03414707, 0.10935419, 0.14036461,\n",
       "       0.32154304, 0.17920739, 0.26831962, 0.2199881 , 0.09868695,\n",
       "       0.75470016, 0.57816671, 0.27570081, 0.10230632, 0.17935122,\n",
       "       0.8350152 , 0.23429135, 0.68225182, 0.65816945, 0.50487406,\n",
       "       0.9500307 , 0.08467132, 0.22555344, 0.40983876, 0.09084352,\n",
       "       0.38320452, 0.19718373, 0.25026613, 0.21275206, 0.3727187 ,\n",
       "       0.67522154, 0.28162041, 0.58378223, 0.82203923, 0.31700408,\n",
       "       0.34694096, 0.12217911, 0.17100013, 0.59169055, 0.74892932,\n",
       "       0.18442767, 0.93290448, 0.16870587, 0.13440076, 0.28597189,\n",
       "       0.10987314, 0.60600918, 0.60358657, 0.49253595, 0.09664923,\n",
       "       0.04704456, 0.13884575, 0.86101869, 0.37537405, 0.09573525,\n",
       "       0.07729277, 0.65516535, 0.35924865, 0.28075113, 0.54873451,\n",
       "       0.04087182, 0.42658441, 0.21608679, 0.54990384, 0.64792798,\n",
       "       0.25025088, 0.49409247, 0.72175351, 0.69066605, 0.08856962,\n",
       "       0.14237032, 0.17628649, 0.26622852, 0.83883463, 0.68535287,\n",
       "       0.74530534, 0.78348266, 0.20519815, 0.1728634 , 0.64061723,\n",
       "       0.43365848, 0.06567827, 0.26790223, 0.03419318, 0.73428694,\n",
       "       0.16997112, 0.47530275, 0.31611519, 0.6845407 , 0.19931055,\n",
       "       0.62561746, 0.30012221, 0.0460927 , 0.68356717, 0.91427578,\n",
       "       0.27647047, 0.14119978, 0.33570671, 0.23812143, 0.33554501,\n",
       "       0.09600317, 0.30166815, 0.91611334, 0.76710689, 0.16520725,\n",
       "       0.15333698, 0.08395345, 0.0194297 , 0.14240963, 0.36345838,\n",
       "       0.22524569, 0.1195016 , 0.18975573, 0.89579399, 0.20287457,\n",
       "       0.18139044, 0.2013799 , 0.29734342, 0.31144629, 0.10910936,\n",
       "       0.44476732, 0.25070671, 0.36836925, 0.3525358 , 0.43276785,\n",
       "       0.02787032, 0.06122481, 0.22003555, 0.44616301, 0.08397175,\n",
       "       0.11399166, 0.29210671, 0.29478349, 0.72909126, 0.10686051,\n",
       "       0.18442004, 0.54521059, 0.11080069, 0.11776452, 0.4448629 ,\n",
       "       0.00361831, 0.52617156, 0.31254698, 0.25093075, 0.07022301,\n",
       "       0.54043194, 0.75141319, 0.36905199, 0.04180597, 0.59265681,\n",
       "       0.7043085 , 0.13427941, 0.2181522 , 0.10348662, 0.05450357,\n",
       "       0.32768364, 0.20638714, 0.05152596, 0.24893071, 0.19370369,\n",
       "       0.24345908, 0.06150931, 0.53413602, 0.2839336 , 0.54522774,\n",
       "       0.28247279, 0.3000875 , 0.95139715, 0.37936853, 0.28300376,\n",
       "       0.19959686, 0.55063571, 0.12341787, 0.74018852, 0.197976  ,\n",
       "       0.55535745, 0.74511138, 0.07265794, 0.22383612, 0.54832846,\n",
       "       0.53381421, 0.05326599, 0.02709589, 0.42927833, 0.09431305,\n",
       "       0.8943611 , 0.43080291, 0.04890429, 0.27656339, 0.15767504,\n",
       "       0.24674169, 0.11608262, 0.20331959, 0.21303567, 0.33804646,\n",
       "       0.20790623, 0.34540833, 0.09665079, 0.31452831, 0.34814847,\n",
       "       0.87640044, 0.0270727 , 0.1263982 , 0.36128027, 0.30399258,\n",
       "       0.3609327 , 0.49976606, 0.3718117 , 0.05480353, 0.16721343,\n",
       "       0.82270799, 0.39464463, 0.05789867, 0.7593954 , 0.52714777,\n",
       "       0.5893736 , 0.81196148, 0.09505935, 0.07442197, 0.50593908,\n",
       "       0.25764698, 0.1332428 , 0.18464591, 0.07676234, 0.56802566,\n",
       "       0.31114576, 0.51174986, 0.39265037, 0.38533068, 0.06973162,\n",
       "       0.80117504, 0.62863619, 0.64314118, 0.31956265, 0.26433696,\n",
       "       0.15219316, 0.15938301, 0.5420628 , 0.20150081, 0.04954697,\n",
       "       0.13616235, 0.72210845, 0.05352153, 0.12487094, 0.19643582,\n",
       "       0.34997949, 0.44360094, 0.02206223, 0.58311752, 0.13573354,\n",
       "       0.49802639, 0.74275933, 0.10431202, 0.94924546, 0.28243918,\n",
       "       0.21993938, 0.31307441, 0.04403671, 0.28608983, 0.49917328,\n",
       "       0.17027345, 0.54866916, 0.76598485, 0.56078028, 0.0464152 ,\n",
       "       0.82890054, 0.03021464, 0.6452031 , 0.20429242, 0.68632994,\n",
       "       0.82182114, 0.09273696, 0.39590346, 0.11863587, 0.42929485,\n",
       "       0.77928315, 0.08614002, 0.04991502, 0.13022514, 0.22505192,\n",
       "       0.87728781, 0.76133681, 0.40548239, 0.50660455, 0.14730745,\n",
       "       0.13261047, 0.18374102, 0.76181916, 0.17891868, 0.34269222,\n",
       "       0.20320647, 0.14769872, 0.12505803, 0.63153599, 0.1209209 ,\n",
       "       0.56262713, 0.19358357, 0.54297819, 0.26027368, 0.1759108 ,\n",
       "       0.22992611, 0.34450015, 0.06001452, 0.0779697 , 0.16444406,\n",
       "       0.45972919, 0.17447065, 0.32906225, 0.09669213, 0.18135318,\n",
       "       0.01121589, 0.10050254, 0.53047383, 0.58288906, 0.05501708,\n",
       "       0.0061462 , 0.52405786, 0.26705573, 0.26377062, 0.34395149,\n",
       "       0.79369114, 0.15419505, 0.20996177, 0.4908175 , 0.84900226,\n",
       "       0.69837036, 0.77721577, 0.11488284, 0.25910234, 0.53069331,\n",
       "       0.09850774, 0.29439494, 0.26544715, 0.37677694, 0.69191989,\n",
       "       0.42723528, 0.44252366, 0.69866615, 0.08652593, 0.0849161 ,\n",
       "       0.13156953, 0.0861919 , 0.48573941, 0.08349089, 0.61760617,\n",
       "       0.79150821, 0.23844406, 0.82656165, 0.04861247, 0.14946281,\n",
       "       0.15155146, 0.45187557, 0.84396506, 0.79620006, 0.85664554,\n",
       "       0.81613338, 0.24896045])"
      ]
     },
     "execution_count": 32,
     "metadata": {},
     "output_type": "execute_result"
    }
   ],
   "source": [
    "## we find the prediction probability\n",
    "y_pred_proba = logistic_model.predict_proba(x_train)\n",
    "y_pred_proba[:,1]"
   ]
  },
  {
   "cell_type": "code",
   "execution_count": 33,
   "id": "a4f003b0",
   "metadata": {},
   "outputs": [
    {
     "data": {
      "text/plain": [
       "array([1.95598625, 0.95598625, 0.9500307 , 0.94924546, 0.92918414,\n",
       "       0.91611334, 0.87680945, 0.87640044, 0.8688044 , 0.86101869,\n",
       "       0.81613338, 0.81196148, 0.80117504, 0.79620006, 0.78198446,\n",
       "       0.77928315, 0.77359846, 0.77243151, 0.7714785 , 0.76717393,\n",
       "       0.75470016, 0.74892932, 0.74530534, 0.74511138, 0.74172465,\n",
       "       0.74018852, 0.73514073, 0.73428694, 0.72945307, 0.72210845,\n",
       "       0.71160272, 0.69191989, 0.68711147, 0.68632994, 0.68535287,\n",
       "       0.6845407 , 0.67522154, 0.65516535, 0.62694975, 0.62410408,\n",
       "       0.59169055, 0.5893736 , 0.58311752, 0.58288906, 0.57891714,\n",
       "       0.57816671, 0.57584938, 0.56802566, 0.56262713, 0.55535745,\n",
       "       0.54873451, 0.54866916, 0.54297819, 0.53413602, 0.53381421,\n",
       "       0.5333401 , 0.53069331, 0.53047383, 0.52617156, 0.52405786,\n",
       "       0.50593908, 0.50487406, 0.49976606, 0.49802639, 0.49409247,\n",
       "       0.4908175 , 0.49002838, 0.48573941, 0.48564714, 0.48029657,\n",
       "       0.47831049, 0.4771516 , 0.45972919, 0.45187557, 0.44616301,\n",
       "       0.44252366, 0.43791823, 0.43365848, 0.43276785, 0.42984443,\n",
       "       0.42929485, 0.42927833, 0.42672442, 0.40983876, 0.39590346,\n",
       "       0.39464463, 0.39265037, 0.39004203, 0.38533068, 0.38320452,\n",
       "       0.3804214 , 0.37856701, 0.37677694, 0.37122454, 0.35497689,\n",
       "       0.3525358 , 0.34997949, 0.34814847, 0.34540833, 0.34450015,\n",
       "       0.34269222, 0.34098282, 0.33804646, 0.33570671, 0.33554501,\n",
       "       0.32398507, 0.32039702, 0.31254698, 0.31144629, 0.31114576,\n",
       "       0.30969592, 0.30399258, 0.30367308, 0.3000875 , 0.29734342,\n",
       "       0.29478349, 0.29439494, 0.29274703, 0.29210671, 0.28857489,\n",
       "       0.28647534, 0.28608983, 0.28597189, 0.28300376, 0.28247279,\n",
       "       0.28243918, 0.28162041, 0.27647047, 0.27570081, 0.26622852,\n",
       "       0.26433696, 0.26027368, 0.25910234, 0.25675876, 0.25093075,\n",
       "       0.25070671, 0.25025088, 0.24976578, 0.24896045, 0.23393843,\n",
       "       0.23391286, 0.22992611, 0.22636259, 0.22524569, 0.22505192,\n",
       "       0.22383612, 0.22372925, 0.21766306, 0.21608679, 0.20519815,\n",
       "       0.20429242, 0.20425826, 0.20331959, 0.20320647, 0.20287457,\n",
       "       0.19959686, 0.1995823 , 0.19370369, 0.19358357, 0.18139044,\n",
       "       0.18135318, 0.17935122, 0.17891868, 0.16991989, 0.16721343,\n",
       "       0.15333698, 0.15219316, 0.15065462, 0.15003179, 0.13762165,\n",
       "       0.13758668, 0.12505803, 0.12487094, 0.12291814, 0.12245235,\n",
       "       0.05152596, 0.05095372, 0.02709589, 0.0270727 , 0.02206223,\n",
       "       0.0194297 , 0.00361831])"
      ]
     },
     "execution_count": 33,
     "metadata": {},
     "output_type": "execute_result"
    }
   ],
   "source": [
    "fpr, tpr, thresh = roc_curve(y_train, y_pred_proba[:,1])\n",
    "thresh"
   ]
  },
  {
   "cell_type": "code",
   "execution_count": 34,
   "id": "d81225ae",
   "metadata": {},
   "outputs": [
    {
     "data": {
      "text/plain": [
       "Text(0.5, 1.0, 'Reciever Operating Characteristics')"
      ]
     },
     "execution_count": 34,
     "metadata": {},
     "output_type": "execute_result"
    },
    {
     "data": {
      "image/png": "[encoded data removed]",
      "text/plain": [
       "<Figure size 432x288 with 1 Axes>"
      ]
     },
     "metadata": {
      "needs_background": "light"
     },
     "output_type": "display_data"
    }
   ],
   "source": [
    "# Plot AUC-ROC\n",
    "plt.plot(fpr,tpr)\n",
    "plt.xlabel(\"False Positive Rate -->\")\n",
    "plt.ylabel(\"True Positive Rate -->\")\n",
    "plt.title(\"Reciever Operating Characteristics\")"
   ]
  },
  {
   "cell_type": "code",
   "execution_count": null,
   "id": "818ed8f9",
   "metadata": {},
   "outputs": [],
   "source": []
  },
  {
   "cell_type": "code",
   "execution_count": null,
   "id": "d6147c94",
   "metadata": {},
   "outputs": [],
   "source": []
  },
  {
   "cell_type": "markdown",
   "id": "7cd4b96d",
   "metadata": {},
   "source": [
    "# Testing on single row"
   ]
  },
  {
   "cell_type": "code",
   "execution_count": 36,
   "id": "f7308cb2",
   "metadata": {},
   "outputs": [
    {
     "data": {
      "text/plain": [
       "Index(['Glucose', 'BloodPressure', 'SkinThickness', 'Insulin', 'BMI',\n",
       "       'DiabetesPedigreeFunction', 'Age'],\n",
       "      dtype='object')"
      ]
     },
     "execution_count": 36,
     "metadata": {},
     "output_type": "execute_result"
    }
   ],
   "source": [
    "x.columns"
   ]
  },
  {
   "cell_type": "code",
   "execution_count": 39,
   "id": "9843a2f4",
   "metadata": {},
   "outputs": [
    {
     "data": {
      "text/plain": [
       "Glucose                     85.000\n",
       "BloodPressure               66.000\n",
       "SkinThickness               29.000\n",
       "Insulin                      0.000\n",
       "BMI                         26.600\n",
       "DiabetesPedigreeFunction     0.351\n",
       "Age                         31.000\n",
       "Name: 1, dtype: float64"
      ]
     },
     "execution_count": 39,
     "metadata": {},
     "output_type": "execute_result"
    }
   ],
   "source": [
    "x_test.loc[1]"
   ]
  },
  {
   "cell_type": "code",
   "execution_count": 40,
   "id": "4c49aaca",
   "metadata": {},
   "outputs": [
    {
     "data": {
      "text/plain": [
       "array([[87.   , 70.   , 35.   , 23.   , 46.6  ,  0.851, 38.   ]])"
      ]
     },
     "execution_count": 40,
     "metadata": {},
     "output_type": "execute_result"
    }
   ],
   "source": [
    "Glucose                    = 87.00\n",
    "BloodPressure             =  70.000\n",
    "SkinThickness             =  35.000\n",
    "Insulin                   =  23\n",
    "BMI                       =  46.600\n",
    "DiabetesPedigreeFunction  =   0.851\n",
    "Age                       =  38.000\n",
    "\n",
    "array=np.array([[Glucose,BloodPressure,SkinThickness,Insulin,BMI,DiabetesPedigreeFunction,Age]])\n",
    "array"
   ]
  },
  {
   "cell_type": "code",
   "execution_count": 42,
   "id": "1ab5eb3a",
   "metadata": {},
   "outputs": [
    {
     "data": {
      "text/plain": [
       "0"
      ]
     },
     "execution_count": 42,
     "metadata": {},
     "output_type": "execute_result"
    }
   ],
   "source": [
    "predict= logistic_model.predict(array)[0]\n",
    "predict"
   ]
  },
  {
   "cell_type": "code",
   "execution_count": null,
   "id": "c39f72b6",
   "metadata": {},
   "outputs": [],
   "source": []
  }
 ],
 "metadata": {
  "kernelspec": {
   "display_name": "Python 3 (ipykernel)",
   "language": "python",
   "name": "python3"
  },
  "language_info": {
   "codemirror_mode": {
    "name": "ipython",
    "version": 3
   },
   "file_extension": ".py",
   "mimetype": "text/x-python",
   "name": "python",
   "nbconvert_exporter": "python",
   "pygments_lexer": "ipython3",
   "version": "3.9.12"
  }
 },
 "nbformat": 4,
 "nbformat_minor": 5
}
